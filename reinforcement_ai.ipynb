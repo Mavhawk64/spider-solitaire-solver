{
 "cells": [
  {
   "cell_type": "code",
   "execution_count": 1,
   "id": "978d2810",
   "metadata": {},
   "outputs": [],
   "source": [
    "import tensorflow as tf"
   ]
  },
  {
   "cell_type": "code",
   "execution_count": 2,
   "id": "5f42ca68",
   "metadata": {},
   "outputs": [],
   "source": [
    "# Reward system\n",
    "REWARD_FOR_BUILDING_SEQUENCE = 5\n",
    "REWARD_FOR_EXPOSING_HIDDEN_CARD = 10\n",
    "REWARD_FOR_CREATING_EMPTY_PILE = 15\n",
    "REWARD_FOR_BUILDING_ON_HIGHER_CARD_OUT_OF_SUIT = 2\n",
    "REWARD_FOR_MAXIMIZING_CARD_EXPOSURE_BEFORE_NEW_DEAL = 20\n",
    "REWARD_FOR_NATURAL_BUILD_POST_SUIT_REMOVAL = 10\n",
    "\n",
    "# Penalties\n",
    "PENALTY_FOR_REDUNDANT_MOVE = -10\n",
    "\n",
    "# Game mechanics\n",
    "MAXIMUM_EMPTY_PILES = 10  # Assuming Spider Solitaire with 10 tableau piles\n",
    "MAX_CARDS_PER_SUIT = 13  # Number of cards per suit, from Ace to King\n",
    "\n",
    "# Neural network parameters - These can be adjusted based on the model's performance and complexity\n",
    "# Placeholder, adjust based on actual game state representation\n",
    "NN_INPUT_SHAPE = (10, 10)\n",
    "NN_LEARNING_RATE = 0.001\n",
    "NN_BATCH_SIZE = 32\n",
    "NN_EPOCHS = 100\n",
    "\n",
    "# Other constants\n",
    "# Adjust this for training with different difficulty levels (1, 2, 3, or 4 suits)\n",
    "NUMBER_OF_SUITS = 1\n",
    "SUITS = [\"C\", \"D\", \"S\", \"H\"]\n",
    "RANKS = [\"A\", \"2\", \"3\", \"4\", \"5\", \"6\", \"7\", \"8\", \"9\", \"T\", \"J\", \"Q\", \"K\"]\n",
    "CARD_COUNT = 104"
   ]
  },
  {
   "cell_type": "code",
   "execution_count": 3,
   "id": "8f6ae6d8-494f-467b-9982-c52074078056",
   "metadata": {},
   "outputs": [],
   "source": [
    "def parse_game_state(file_path):\n",
    "    with open(file_path, \"r\") as file:\n",
    "        lines = file.readlines()\n",
    "\n",
    "    draw_count = int(lines[0].split(\": \")[1])\n",
    "    card_matrix = [line.strip().split(\" \")\n",
    "                   for line in lines[2:]]  # Skip the first two lines\n",
    "\n",
    "    # Convert the card matrix into a more structured format, if necessary\n",
    "    # For now, it's just a list of lists containing the card values or placeholders\n",
    "\n",
    "    return draw_count, card_matrix"
   ]
  },
  {
   "cell_type": "code",
   "execution_count": 4,
   "id": "6f89dfe4",
   "metadata": {},
   "outputs": [
    {
     "name": "stdout",
     "output_type": "stream",
     "text": [
      "50\n",
      "[['##', '##', '##', '##', '##', '##', '##', '##', '##', '##'], ['##', '##', '##', '##', '##', '##', '##', '##', '##', '##'], ['##', '##', '##', '##', '##', '##', '##', '##', '##', '##'], ['##', '##', '##', '##', 'HJ', 'C2', 'DJ', 'S2', 'D9', 'S4'], ['D9', 'C3', 'SK', 'H8', '__', '__', '__', '__', '__', '__']]\n"
     ]
    }
   ],
   "source": [
    "draw_count, card_matrix = parse_game_state(\"input.txt\")\n",
    "print(draw_count)\n",
    "print(card_matrix)"
   ]
  },
  {
   "cell_type": "code",
   "execution_count": 5,
   "id": "d617f535",
   "metadata": {},
   "outputs": [
    {
     "name": "stderr",
     "output_type": "stream",
     "text": [
      "2024-03-26 12:07:30.241598: I metal_plugin/src/device/metal_device.cc:1154] Metal device set to: Apple M2 Max\n",
      "2024-03-26 12:07:30.241619: I metal_plugin/src/device/metal_device.cc:296] systemMemory: 64.00 GB\n",
      "2024-03-26 12:07:30.241623: I metal_plugin/src/device/metal_device.cc:313] maxCacheSize: 24.00 GB\n",
      "2024-03-26 12:07:30.241640: I tensorflow/core/common_runtime/pluggable_device/pluggable_device_factory.cc:305] Could not identify NUMA node of platform GPU ID 0, defaulting to 0. Your kernel may not have been built with NUMA support.\n",
      "2024-03-26 12:07:30.241652: I tensorflow/core/common_runtime/pluggable_device/pluggable_device_factory.cc:271] Created TensorFlow device (/job:localhost/replica:0/task:0/device:GPU:0 with 0 MB memory) -> physical PluggableDevice (device: 0, name: METAL, pci bus id: <undefined>)\n"
     ]
    }
   ],
   "source": [
    "model = tf.keras.Sequential(\n",
    "    [\n",
    "        tf.keras.layers.Input(shape=NN_INPUT_SHAPE),  # Explicit Input layer\n",
    "        tf.keras.layers.Flatten(),\n",
    "        tf.keras.layers.Dense(128, activation=\"relu\"),\n",
    "        tf.keras.layers.Dense(64, activation=\"relu\"),\n",
    "        tf.keras.layers.Dense(1, activation=\"sigmoid\"),\n",
    "    ]\n",
    ")\n",
    "\n",
    "model.compile(optimizer=\"adam\", loss=\"binary_crossentropy\",\n",
    "              metrics=[\"accuracy\"])"
   ]
  },
  {
   "cell_type": "code",
   "execution_count": 7,
   "id": "cedc7051-33f7-4db2-9eb8-ad868705e1ac",
   "metadata": {},
   "outputs": [
    {
     "name": "stdout",
     "output_type": "stream",
     "text": [
      "draw: 50\n",
      "## ## ## ## ## ## ## ## ## ## \n",
      "## ## ## ## ## ## ## ## ## ## \n",
      "## ## ## ## ## ## ## ## ## ## \n",
      "## ## ## ## ## ## ## ## ## ## \n",
      "## ## ## ## CK C7 C6 C9 C6 CQ \n",
      "CQ C5 C5 C2 __ __ __ __ __ __ \n",
      "C5\n",
      "C7\n"
     ]
    },
    {
     "ename": "AttributeError",
     "evalue": "'NoneType' object has no attribute 'shape'",
     "output_type": "error",
     "traceback": [
      "\u001b[0;31m---------------------------------------------------------------------------\u001b[0m",
      "\u001b[0;31mAttributeError\u001b[0m                            Traceback (most recent call last)",
      "Cell \u001b[0;32mIn[7], line 27\u001b[0m\n\u001b[1;32m     23\u001b[0m x_train \u001b[38;5;241m=\u001b[39m [preprocess_game_state(game_str) \u001b[38;5;28;01mfor\u001b[39;00m game_str \u001b[38;5;129;01min\u001b[39;00m game_states]\n\u001b[1;32m     25\u001b[0m y_train \u001b[38;5;241m=\u001b[39m []\n\u001b[0;32m---> 27\u001b[0m \u001b[43mmodel\u001b[49m\u001b[38;5;241;43m.\u001b[39;49m\u001b[43mfit\u001b[49m\u001b[43m(\u001b[49m\u001b[43mx_train\u001b[49m\u001b[43m,\u001b[49m\u001b[43m \u001b[49m\u001b[43my_train\u001b[49m\u001b[43m,\u001b[49m\u001b[43m \u001b[49m\u001b[43mepochs\u001b[49m\u001b[38;5;241;43m=\u001b[39;49m\u001b[38;5;241;43m10\u001b[39;49m\u001b[43m)\u001b[49m\n",
      "File \u001b[0;32m/opt/miniconda3/envs/tf_env/lib/python3.9/site-packages/keras/src/utils/traceback_utils.py:122\u001b[0m, in \u001b[0;36mfilter_traceback.<locals>.error_handler\u001b[0;34m(*args, **kwargs)\u001b[0m\n\u001b[1;32m    119\u001b[0m     filtered_tb \u001b[38;5;241m=\u001b[39m _process_traceback_frames(e\u001b[38;5;241m.\u001b[39m__traceback__)\n\u001b[1;32m    120\u001b[0m     \u001b[38;5;66;03m# To get the full stack trace, call:\u001b[39;00m\n\u001b[1;32m    121\u001b[0m     \u001b[38;5;66;03m# `keras.config.disable_traceback_filtering()`\u001b[39;00m\n\u001b[0;32m--> 122\u001b[0m     \u001b[38;5;28;01mraise\u001b[39;00m e\u001b[38;5;241m.\u001b[39mwith_traceback(filtered_tb) \u001b[38;5;28;01mfrom\u001b[39;00m \u001b[38;5;28;01mNone\u001b[39;00m\n\u001b[1;32m    123\u001b[0m \u001b[38;5;28;01mfinally\u001b[39;00m:\n\u001b[1;32m    124\u001b[0m     \u001b[38;5;28;01mdel\u001b[39;00m filtered_tb\n",
      "File \u001b[0;32m/opt/miniconda3/envs/tf_env/lib/python3.9/site-packages/keras/src/trainers/data_adapters/data_adapter_utils.py:103\u001b[0m, in \u001b[0;36m<genexpr>\u001b[0;34m(.0)\u001b[0m\n\u001b[1;32m    102\u001b[0m \u001b[38;5;28;01mdef\u001b[39;00m \u001b[38;5;21mcheck_data_cardinality\u001b[39m(data):\n\u001b[0;32m--> 103\u001b[0m     num_samples \u001b[38;5;241m=\u001b[39m \u001b[38;5;28mset\u001b[39m(\u001b[38;5;28mint\u001b[39m(\u001b[43mi\u001b[49m\u001b[38;5;241;43m.\u001b[39;49m\u001b[43mshape\u001b[49m[\u001b[38;5;241m0\u001b[39m]) \u001b[38;5;28;01mfor\u001b[39;00m i \u001b[38;5;129;01min\u001b[39;00m tree\u001b[38;5;241m.\u001b[39mflatten(data))\n\u001b[1;32m    104\u001b[0m     \u001b[38;5;28;01mif\u001b[39;00m \u001b[38;5;28mlen\u001b[39m(num_samples) \u001b[38;5;241m>\u001b[39m \u001b[38;5;241m1\u001b[39m:\n\u001b[1;32m    105\u001b[0m         msg \u001b[38;5;241m=\u001b[39m (\n\u001b[1;32m    106\u001b[0m             \u001b[38;5;124m\"\u001b[39m\u001b[38;5;124mData cardinality is ambiguous. \u001b[39m\u001b[38;5;124m\"\u001b[39m\n\u001b[1;32m    107\u001b[0m             \u001b[38;5;124m\"\u001b[39m\u001b[38;5;124mMake sure all arrays contain the same number of samples.\u001b[39m\u001b[38;5;124m\"\u001b[39m\n\u001b[1;32m    108\u001b[0m         )\n",
      "\u001b[0;31mAttributeError\u001b[0m: 'NoneType' object has no attribute 'shape'"
     ]
    }
   ],
   "source": [
    "import game_generator as gg\n",
    "\n",
    "# Example of generating game states\n",
    "num_games = 1000  # Number of games to generate for the dataset\n",
    "game_states = []\n",
    "for _ in range(num_games):\n",
    "    # Or adjust for different levels of difficulty\n",
    "    deck = gg.create_deck(NUMBER_OF_SUITS)\n",
    "    deck = gg.shuffle_deck(deck)\n",
    "    grid, remaining_deck = gg.deal_deck(deck)\n",
    "    game_str = gg.output_game_as_str(grid)\n",
    "    game_states.append(gg.GameState(grid, remaining_deck, game_str))\n",
    "\n",
    "\n",
    "def encode_card(suit, rank):\n",
    "    suit_id = SUITS.index(suit)\n",
    "    rank_id = RANKS.index(rank)\n",
    "    return suit_id * len(RANKS) + rank_id\n",
    "\n",
    "\n",
    "def decode_card(unique_id):\n",
    "    suit_id = unique_id // len(RANKS)\n",
    "    rank_id = unique_id % len(RANKS)\n",
    "    return SUITS[suit_id], RANKS[rank_id]\n",
    "\n",
    "\n",
    "def preprocess_game_state(game_str):\n",
    "    lines = game_str.split(\"\\n\")\n",
    "    # Skip the first line (draw count) and the last (empty)\n",
    "    card_lines = lines[1:-1]\n",
    "    encoded_state = []\n",
    "    for line in card_lines:\n",
    "        cards = line.split()\n",
    "        for card in cards:\n",
    "            encoded_state.extend(encode_card(card))\n",
    "    return encoded_state\n",
    "\n",
    "\n",
    "x_train = [preprocess_game_state(game_str) for game_str in game_states]\n",
    "\n",
    "y_train = []\n",
    "\n",
    "model.fit(x_train, y_train, epochs=10)"
   ]
  },
  {
   "cell_type": "code",
   "execution_count": null,
   "id": "547656ad",
   "metadata": {},
   "outputs": [],
   "source": [
    "def make_move(model, game_state):\n",
    "    # This function should use the model to predict the best move\n",
    "    # Update the game state accordingly\n",
    "    # For now, this is a placeholder showing the structure\n",
    "    pass\n",
    "\n",
    "\n",
    "game_over = True\n",
    "# Loop to play the game\n",
    "while not game_over:\n",
    "    # Assuming a function game_over() to check if the game has ended\n",
    "    make_move(model, card_matrix)\n",
    "    # Wait for user to update input.txt and re-parse it\n",
    "    draw_count, card_matrix = parse_game_state(\"input.txt\")"
   ]
  }
 ],
 "metadata": {
  "kernelspec": {
   "display_name": "Python 3 (ipykernel)",
   "language": "python",
   "name": "python3"
  },
  "language_info": {
   "codemirror_mode": {
    "name": "ipython",
    "version": 3
   },
   "file_extension": ".py",
   "mimetype": "text/x-python",
   "name": "python",
   "nbconvert_exporter": "python",
   "pygments_lexer": "ipython3",
   "version": "3.9.19"
  }
 },
 "nbformat": 4,
 "nbformat_minor": 5
}
