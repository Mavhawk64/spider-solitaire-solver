{
 "cells": [
  {
   "cell_type": "code",
   "execution_count": 1,
   "id": "978d2810",
   "metadata": {},
   "outputs": [],
   "source": [
    "import tensorflow as tf"
   ]
  },
  {
   "cell_type": "code",
   "execution_count": 2,
   "id": "8f6ae6d8-494f-467b-9982-c52074078056",
   "metadata": {},
   "outputs": [],
   "source": [
    "def parse_game_state(file_path):\n",
    "    with open(file_path, 'r') as file:\n",
    "        lines = file.readlines()\n",
    "\n",
    "    draw_count = int(lines[0].split(': ')[1])\n",
    "    card_matrix = [line.strip().split(' ')\n",
    "                   for line in lines[2:]]  # Skip the first two lines\n",
    "\n",
    "    # Convert the card matrix into a more structured format, if necessary\n",
    "    # For now, it's just a list of lists containing the card values or placeholders\n",
    "\n",
    "    return draw_count, card_matrix"
   ]
  },
  {
   "cell_type": "code",
   "execution_count": 3,
   "id": "6f89dfe4",
   "metadata": {},
   "outputs": [
    {
     "name": "stdout",
     "output_type": "stream",
     "text": [
      "50\n",
      "[['##', '##', '##', '##', '##', '##', '##', '##', '##', '##'], ['##', '##', '##', '##', '##', '##', '##', '##', '##', '##'], ['##', '##', '##', '##', '##', '##', '##', '##', '##', '##'], ['##', '##', '##', '##', 'HJ', 'C2', 'DJ', 'S2', 'D9', 'S4'], ['D9', 'C3', 'SK', 'H8', '__', '__', '__', '__', '__', '__']]\n"
     ]
    }
   ],
   "source": [
    "draw_count, card_matrix = parse_game_state('input.txt')\n",
    "print(draw_count)\n",
    "print(card_matrix)"
   ]
  },
  {
   "cell_type": "code",
   "execution_count": 5,
   "id": "d617f535",
   "metadata": {},
   "outputs": [],
   "source": [
    "model = tf.keras.Sequential([\n",
    "    tf.keras.layers.Input(shape=(10, 10)),  # Explicit Input layer\n",
    "    tf.keras.layers.Flatten(),\n",
    "    tf.keras.layers.Dense(128, activation='relu'),\n",
    "    tf.keras.layers.Dense(64, activation='relu'),\n",
    "    tf.keras.layers.Dense(1, activation='sigmoid')\n",
    "])\n",
    "\n",
    "\n",
    "model.compile(optimizer='adam',\n",
    "              loss='binary_crossentropy',\n",
    "              metrics=['accuracy'])"
   ]
  },
  {
   "cell_type": "code",
   "execution_count": null,
   "id": "cedc7051-33f7-4db2-9eb8-ad868705e1ac",
   "metadata": {},
   "outputs": [],
   "source": []
  }
 ],
 "metadata": {
  "kernelspec": {
   "display_name": "Python 3 (ipykernel)",
   "language": "python",
   "name": "python3"
  },
  "language_info": {
   "codemirror_mode": {
    "name": "ipython",
    "version": 3
   },
   "file_extension": ".py",
   "mimetype": "text/x-python",
   "name": "python",
   "nbconvert_exporter": "python",
   "pygments_lexer": "ipython3",
   "version": "3.9.19"
  }
 },
 "nbformat": 4,
 "nbformat_minor": 5
}
